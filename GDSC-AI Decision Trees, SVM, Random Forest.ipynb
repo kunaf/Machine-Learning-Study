{
 "cells": [
  {
   "cell_type": "markdown",
   "metadata": {},
   "source": [
    "### DECISION TREES, RANDOM FOREST AND SVM(SUPPORT VECTOR MACHINES)"
   ]
  },
  {
   "cell_type": "markdown",
   "metadata": {},
   "source": [
    "<b>Decision Trees</b>\n",
    " Used for classification problems. It involves recursively splitting a set based on some specific attribute in untill. Very useful for Yes/No etc. decision sort of problems. It can handle both categorical data and numeric data.\n",
    " \n",
    " Follow the link to read more about logistic regression: \n",
    " \n",
    " <b>Steps in Decision Tree Classification</b>\n",
    " \n",
    " 1. Load the data set\n",
    " 2. Build Decision Tree Model\n",
    " 3. Fit the model\n",
    " 4. Predict using the model\n",
    " 5. Check how well you model made the prediction\n",
    "    "
   ]
  },
  {
   "cell_type": "markdown",
   "metadata": {},
   "source": [
    "EXAMPLE"
   ]
  },
  {
   "cell_type": "code",
   "execution_count": 3,
   "metadata": {},
   "outputs": [
    {
     "name": "stdout",
     "output_type": "stream",
     "text": [
      "[[166   1]\n",
      " [  2 106]]\n",
      "              precision    recall  f1-score   support\n",
      "\n",
      "           0       0.99      0.99      0.99       167\n",
      "           1       0.99      0.98      0.99       108\n",
      "\n",
      "    accuracy                           0.99       275\n",
      "   macro avg       0.99      0.99      0.99       275\n",
      "weighted avg       0.99      0.99      0.99       275\n",
      "\n"
     ]
    }
   ],
   "source": [
    "#import libraries\n",
    "import pandas as pd\n",
    "import numpy as np\n",
    "import matplotlib.pyplot as plt\n",
    "%matplotlib inline\n",
    "\n",
    "dataset = pd.read_csv(\"/home/kuna/Downloads/bertelsmann/bill_authentication.csv\")\n",
    "\n",
    "#see the number of rows and columns in our dataset\n",
    "dataset.shape\n",
    "\n",
    "#preview first few rows of the dataset\n",
    "dataset.head(10)\n"
   ]
  },
  {
   "cell_type": "code",
   "execution_count": null,
   "metadata": {},
   "outputs": [],
   "source": [
    "#We split data into features and labels\n",
    "X = dataset.drop('Class', axis=1)\n",
    "y = dataset['Class']\n",
    "\n",
    "#separate data into train and test set\n",
    "from sklearn.model_selection import train_test_split\n",
    "X_train, X_test, y_train, y_test = train_test_split(X, y, test_size=0.20)\n",
    "\n",
    "#Build Decision Tree model\n",
    "from sklearn.tree import DecisionTreeClassifier\n",
    "classifier = DecisionTreeClassifier()\n",
    "\n",
    "#fit the model\n",
    "classifier.fit(X_train, y_train)\n",
    "\n",
    "#make predictions on the test data\n",
    "y_pred = classifier.predict(X_test)"
   ]
  },
  {
   "cell_type": "code",
   "execution_count": 4,
   "metadata": {},
   "outputs": [
    {
     "name": "stdout",
     "output_type": "stream",
     "text": [
      "[[166   1]\n",
      " [  2 106]]\n"
     ]
    }
   ],
   "source": [
    "#print accuracy\n",
    "classifier.score(X_test, y_test) \n",
    "\n",
    "#evaluate accuraccy\n",
    "from sklearn.metrics import classification_report, confusion_matrix\n",
    "print(confusion_matrix(y_test, y_pred))"
   ]
  },
  {
   "cell_type": "code",
   "execution_count": null,
   "metadata": {},
   "outputs": [],
   "source": [
    "print(classification_report(y_test, y_pred))"
   ]
  },
  {
   "cell_type": "markdown",
   "metadata": {},
   "source": [
    "Check [this documentation](https://scikit-learn.org/stable/modules/generated/sklearn.tree.DecisionTreeClassifier.html) on how to use the Decision Tree Classifier. Experiment with this dataset by adding to/changing parameters of the Decision Tree Classifier model. \n",
    "\n",
    "Take note of the values af the model precision and accuracy. "
   ]
  },
  {
   "cell_type": "code",
   "execution_count": null,
   "metadata": {},
   "outputs": [],
   "source": [
    "###exercise here"
   ]
  },
  {
   "cell_type": "markdown",
   "metadata": {},
   "source": [
    "The challenge with decision trees is the fact that in case there is a minor change in the data, a whole new tree has to be generated. \n",
    "This cahllenge can be solved with the next model."
   ]
  },
  {
   "cell_type": "markdown",
   "metadata": {},
   "source": [
    "<b>Random Forest</b>\n",
    " A random forest is a combination of two or more decision trees. Handles the problem of overfitting since output dependds on multiple trees and not one.  \n",
    " \n",
    " <b>Steps in Random Forest Classification</b>\n",
    " \n",
    " 1. Load the data set\n",
    " 2. Build Random Forest Model\n",
    " 3. Fit the model\n",
    " 4. Predict using the model\n",
    " 5. Check how well you model made the prediction\n",
    "    "
   ]
  },
  {
   "cell_type": "markdown",
   "metadata": {},
   "source": [
    "Use the same dataset above and follow the steps to create a Random Forest Classifier. Use the [documentation](https://scikit-learn.org/stable/modules/generated/sklearn.ensemble.RandomForestClassifier.html) to tweak the parameters and record the accuracy of the model.\n",
    "\n",
    "Compare the accuracy off the model with that of the decision tree classifier. "
   ]
  },
  {
   "cell_type": "code",
   "execution_count": null,
   "metadata": {},
   "outputs": [],
   "source": [
    "##exercise here"
   ]
  },
  {
   "cell_type": "code",
   "execution_count": null,
   "metadata": {},
   "outputs": [],
   "source": []
  },
  {
   "cell_type": "markdown",
   "metadata": {},
   "source": [
    "<b>Support Vector Machines (SVM)</b>\n",
    " Used majorly for classification probems. The model finds the most optimal solution from a range of solutions. Support vectors would generally cause the most effect to the position of the fitting line because they lie closest to the fitting line. So this algorithm seeks to learn the data while keeping support vectors happy :)\n",
    "    \n",
    " An [interesting read](https://web.mit.edu/6.034/wwwbob/svm.pdf) (great for math fanatics) clearly explaining SVMs"
   ]
  },
  {
   "cell_type": "markdown",
   "metadata": {},
   "source": [
    "EXAMPLE"
   ]
  },
  {
   "cell_type": "code",
   "execution_count": null,
   "metadata": {},
   "outputs": [],
   "source": [
    "#import libraries\n",
    "import matplotlib.pyplot as plt\n",
    "from sklearn import svm\n",
    "from sklearn.model_selection import train_test_split\n",
    "import numpy as np\n",
    "import sys \n",
    "import os \n",
    "\n",
    "sys.path.append(os.path.abspath(\"../\"))\n",
    "from utils import read_data, plot_data, plot_decision_function\n",
    "\n",
    "# Read data\n",
    "x, labels = read_data(\"points_class_0.txt\", \"points_class_1.txt\")\n",
    "\n",
    "# Split data to train and test on 80-20 ratio\n",
    "X_train, X_test, y_train, y_test = train_test_split(x, labels, test_size = 0.2, random_state=0)\n",
    "\n",
    "print(\"Displaying data. Close window to continue.\")  \n",
    "# Plot traning and test data\n",
    "plot_data(X_train, y_train, X_test, y_test)\n",
    "\n",
    "\n",
    "print('Training Linear SVM')\n",
    "# Create a linear SVM classifier \n",
    "clf = svm.SVC(kernel='linear')\n",
    "\n",
    "# Train classifier \n",
    "clf.fit(X_train, y_train)\n",
    "\n",
    "print(\"Displaying decision function. Close window to continue.\")  \n",
    "# Plot decision function on training and test data\n",
    "plot_decision_function(X_train, y_train, X_test, y_test, clf)\n",
    "\n",
    "# Make predictions on unseen test data\n",
    "clf_predictions = clf.predict(X_test)\n",
    "print(\"Accuracy: {}%\".format(clf.score(X_test, y_test) * 100 ))\n"
   ]
  },
  {
   "cell_type": "markdown",
   "metadata": {},
   "source": [
    "Experiment with [SVM](https://scikit-learn.org/stable/modules/svm.html)"
   ]
  },
  {
   "cell_type": "code",
   "execution_count": null,
   "metadata": {},
   "outputs": [],
   "source": [
    "##Exercise Here"
   ]
  },
  {
   "cell_type": "code",
   "execution_count": null,
   "metadata": {},
   "outputs": [],
   "source": [
    "##Exercise Here"
   ]
  }
 ],
 "metadata": {
  "kernelspec": {
   "display_name": "Python 3",
   "language": "python",
   "name": "python3"
  },
  "language_info": {
   "codemirror_mode": {
    "name": "ipython",
    "version": 3
   },
   "file_extension": ".py",
   "mimetype": "text/x-python",
   "name": "python",
   "nbconvert_exporter": "python",
   "pygments_lexer": "ipython3",
   "version": "3.8.5"
  }
 },
 "nbformat": 4,
 "nbformat_minor": 4
}
